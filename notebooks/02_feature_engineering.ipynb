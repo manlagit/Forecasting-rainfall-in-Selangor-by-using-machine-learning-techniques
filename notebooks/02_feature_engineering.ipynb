{
 "cells": [
  {
   "cell_type": "markdown",
   "metadata": {},
   "source": [
    "# Feature Engineering for Rainfall Forecasting\n",
    "\n",
    "This notebook explores and implements feature engineering techniques for the Selangor rainfall forecasting project.\n",
    "\n",
    "## Objectives:\n",
    "- Load and explore raw data\n",
    "- Create lag features\n",
    "- Generate moving averages\n",
    "- Add seasonal indicators\n",
    "- Test feature combinations"
   ]
  },
  {
   "cell_type": "code",
   "execution_count": null,
   "metadata": {},
   "outputs": [],
   "source": [
    "import pandas as pd\n",
    "import numpy as np\n",
    "import matplotlib.pyplot as plt\n",
    "import seaborn as sns\n",
    "from datetime import datetime\n",
    "import warnings\n",
    "warnings.filterwarnings('ignore')\n",
    "\n",
    "# Set plotting style\n",
    "plt.style.use('seaborn-v0_8')\n",
    "sns.set_palette(\"husl\")\n",
    "\n",
    "print(\"Libraries imported successfully!\")"
   ]
  },
  {
   "cell_type": "markdown",
   "metadata": {},
   "source": [
    "## 1. Load Raw Data"
   ]
  },
  {
   "cell_type": "code",
   "execution_count": null,
   "metadata": {},
   "outputs": [],
   "source": [
    "# Load the primary dataset\n",
    "df = pd.read_csv(\"../data/raw/230731665812CCD_weekly1.csv\")\n",
    "df['Date'] = pd.to_datetime(df['Date'])\n",
    "\n",
    "print(f\"Dataset shape: {df.shape}\")\n",
    "print(f\"Date range: {df['Date'].min()} to {df['Date'].max()}\")\n",
    "print(\"\\nFirst few rows:\")\n",
    "df.head()"
   ]
  },
  {
   "cell_type": "code",
   "execution_count": null,
   "metadata": {},
   "outputs": [],
   "source": [
    "# Basic statistics\n",
    "print(\"Dataset Info:\")\n",
    "print(df.info())\n",
    "print(\"\\nDescriptive Statistics:\")\n",
    "df.describe()"
   ]
  },
  {
   "cell_type": "markdown",
   "metadata": {},
   "source": [
    "## 2. Lag Features\n",
    "\n",
    "Create lag features to capture temporal dependencies in the data."
   ]
  },
  {
   "cell_type": "code",
   "execution_count": null,
   "metadata": {},
   "outputs": [],
   "source": [
    "# Create lag features\n",
    "def create_lag_features(df, columns, lags=[1, 2, 3]):\n",
    "    \"\"\"\n",
    "    Create lag features for specified columns.\n",
    "    \n",
    "    Args:\n",
    "        df: DataFrame\n",
    "        columns: List of column names to create lags for\n",
    "        lags: List of lag periods\n",
    "    \n",
    "    Returns:\n",
    "        DataFrame with lag features added\n",
    "    \"\"\"\n",
    "    df_lagged = df.copy()\n",
    "    \n",
    "    for col in columns:\n",
    "        for lag in lags:\n",
    "            df_lagged[f'{col}_lag_{lag}'] = df_lagged[col].shift(lag)\n",
    "    \n",
    "    return df_lagged\n",
    "\n",
    "# Apply lag features\n",
    "lag_columns = ['Precipitation_mm', 'Temp_avg', 'Relative_Humidity', 'Wind_kmh']\n",
    "df_with_lags = create_lag_features(df, lag_columns, lags=[1, 2])\n",
    "\n",
    "print(f\"Original columns: {len(df.columns)}\")\n",
    "print(f\"With lag features: {len(df_with_lags.columns)}\")\n",
    "print(\"\\nNew lag columns:\")\n",
    "lag_cols = [col for col in df_with_lags.columns if 'lag' in col]\n",
    "print(lag_cols)"
   ]
  },
  {
   "cell_type": "markdown",
   "metadata": {},
   "source": [
    "## 3. Moving Averages\n",
    "\n",
    "Create moving averages to smooth out short-term fluctuations."
   ]
  },
  {
   "cell_type": "code",
   "execution_count": null,
   "metadata": {},
   "outputs": [],
   "source": [
    "# Create moving average features\n",
    "def create_moving_averages(df, columns, windows=[3, 4, 6]):\n",
    "    \"\"\"\n",
    "    Create moving average features.\n",
    "    \n",
    "    Args:\n",
    "        df: DataFrame\n",
    "        columns: List of column names\n",
    "        windows: List of window sizes\n",
    "    \n",
    "    Returns:\n",
    "        DataFrame with moving average features\n",
    "    \"\"\"\n",
    "    df_ma = df.copy()\n",
    "    \n",
    "    for col in columns:\n",
    "        for window in windows:\n",
    "            df_ma[f'{col}_ma_{window}'] = df_ma[col].rolling(window=window).mean()\n",
    "    \n",
    "    return df_ma\n",
    "\n",
    "# Apply moving averages\n",
    "ma_columns = ['Precipitation_mm', 'Temp_avg', 'Relative_Humidity']\n",
    "df_with_ma = create_moving_averages(df_with_lags, ma_columns, windows=[3, 4])\n",
    "\n",
    "print(f\"With moving averages: {len(df_with_ma.columns)}\")\n",
    "print(\"\\nMoving average columns:\")\n",
    "ma_cols = [col for col in df_with_ma.columns if '_ma_' in col]\n",
    "print(ma_cols)"
   ]
  },
  {
   "cell_type": "markdown",
   "metadata": {},
   "source": [
    "## 4. Seasonal Features\n",
    "\n",
    "Create seasonal indicators based on Malaysian climate patterns."
   ]
  },
  {
   "cell_type": "code",
   "execution_count": null,
   "metadata": {},
   "outputs": [],
   "source": [
    "# Create seasonal features\n",
    "def create_seasonal_features(df):\n",
    "    \"\"\"\n",
    "    Create seasonal features based on Malaysian climate.\n",
    "    \n",
    "    Monsoon season: October-December, April\n",
    "    Dry season: June-August\n",
    "    \"\"\"\n",
    "    df_seasonal = df.copy()\n",
    "    \n",
    "    # Extract month\n",
    "    df_seasonal['Month'] = df_seasonal['Date'].dt.month\n",
    "    \n",
    "    # Monsoon season (heavy rainfall)\n",
    "    df_seasonal['is_monsoon'] = df_seasonal['Month'].isin([10, 11, 12, 4]).astype(int)\n",
    "    \n",
    "    # Dry season (low rainfall)\n",
    "    df_seasonal['is_dry_season'] = df_seasonal['Month'].isin([6, 7, 8]).astype(int)\n",
    "    \n",
    "    # Cyclical encoding for month\n",
    "    df_seasonal['month_sin'] = np.sin(2 * np.pi * df_seasonal['Month'] / 12)\n",
    "    df_seasonal['month_cos'] = np.cos(2 * np.pi * df_seasonal['Month'] / 12)\n",
    "    \n",
    "    # Week of year cyclical encoding\n",
    "    df_seasonal['week_sin'] = np.sin(2 * np.pi * df_seasonal['Week_Number'] / 52)\n",
    "    df_seasonal['week_cos'] = np.cos(2 * np.pi * df_seasonal['Week_Number'] / 52)\n",
    "    \n",
    "    return df_seasonal\n",
    "\n",
    "# Apply seasonal features\n",
    "df_with_seasonal = create_seasonal_features(df_with_ma)\n",
    "\n",
    "print(f\"With seasonal features: {len(df_with_seasonal.columns)}\")\n",
    "print(\"\\nSeasonal columns:\")\n",
    "seasonal_cols = ['Month', 'is_monsoon', 'is_dry_season', 'month_sin', 'month_cos', 'week_sin', 'week_cos']\n",
    "print(seasonal_cols)"
   ]
  },
  {
   "cell_type": "markdown",
   "metadata": {},
   "source": [
    "## 5. Interaction Features\n",
    "\n",
    "Create interaction features to capture relationships between variables."
   ]
  },
  {
   "cell_type": "code",
   "execution_count": null,
   "metadata": {},
   "outputs": [],
   "source": [
    "# Create interaction features\n",
    "def create_interaction_features(df):\n",
    "    \"\"\"\n",
    "    Create interaction features between weather variables.\n",
    "    \"\"\"\n",
    "    df_interaction = df.copy()\n",
    "    \n",
    "    # Temperature-Humidity interaction (heat index proxy)\n",
    "    df_interaction['temp_humidity_interaction'] = (\n",
    "        df_interaction['Temp_avg'] * df_interaction['Relative_Humidity']\n",
    "    )\n",
    "    \n",
    "    # Wind-Precipitation ratio\n",
    "    df_interaction['wind_precip_ratio'] = (\n",
    "        df_interaction['Wind_kmh'] / (df_interaction['Precipitation_mm'] + 1)\n",
    "    )\n",
    "    \n",
    "    # Temperature difference from mean\n",
    "    temp_mean = df_interaction['Temp_avg'].mean()\n",
    "    df_interaction['temp_deviation'] = df_interaction['Temp_avg'] - temp_mean\n",
    "    \n",
    "    # Humidity categories\n",
    "    df_interaction['humidity_category'] = pd.cut(\n",
    "        df_interaction['Relative_Humidity'], \n",
    "        bins=[0, 60, 80, 100], \n",
    "        labels=['Low', 'Medium', 'High']\n",
    "    )\n",
    "    \n",
    "    # One-hot encode humidity categories\n",
    "    humidity_dummies = pd.get_dummies(df_interaction['humidity_category'], prefix='humidity')\n",
    "    df_interaction = pd.concat([df_interaction, humidity_dummies], axis=1)\n",
    "    \n",
    "    return df_interaction\n",
    "\n",
    "# Apply interaction features\n",
    "df_engineered = create_interaction_features(df_with_seasonal)\n",
    "\n",
    "print(f\"Final feature count: {len(df_engineered.columns)}\")\n",
    "print(\"\\nInteraction columns:\")\n",
    "interaction_cols = ['temp_humidity_interaction', 'wind_precip_ratio', 'temp_deviation']\n",
    "print(interaction_cols)"
   ]
  },
  {
   "cell_type": "markdown",
   "metadata": {},
   "source": [
    "## 6. Feature Analysis and Visualization"
   ]
  },
  {
   "cell_type": "code",
   "execution_count": null,
   "metadata": {},
   "outputs": [],
   "source": [
    "# Analyze correlation with target variable\n",
    "numeric_cols = df_engineered.select_dtypes(include=[np.number]).columns\n",
    "correlations = df_engineered[numeric_cols].corr()['Precipitation_mm'].abs().sort_values(ascending=False)\n",
    "\n",
    "print(\"Top 15 features correlated with Precipitation:\")\n",
    "print(correlations.head(15))"
   ]
  },
  {
   "cell_type": "code",
   "execution_count": null,
   "metadata": {},
   "outputs": [],
   "source": [
    "# Visualize feature importance through correlation\n",
    "plt.figure(figsize=(12, 8))\n",
    "top_features = correlations.head(15).index[1:]  # Exclude self-correlation\n",
    "plt.barh(range(len(top_features)), correlations[top_features].values)\n",
    "plt.yticks(range(len(top_features)), top_features)\n",
    "plt.xlabel('Absolute Correlation with Precipitation')\n",
    "plt.title('Top Features Correlated with Precipitation')\n",
    "plt.tight_layout()\n",
    "plt.show()"
   ]
  },
  {
   "cell_type": "code",
   "execution_count": null,
   "metadata": {},
   "outputs": [],
   "source": [
    "# Visualize seasonal patterns\n",
    "fig, axes = plt.subplots(2, 2, figsize=(15, 10))\n",
    "\n",
    "# Monthly precipitation patterns\n",
    "monthly_precip = df_engineered.groupby('Month')['Precipitation_mm'].mean()\n",
    "axes[0, 0].bar(monthly_precip.index, monthly_precip.values)\n",
    "axes[0, 0].set_title('Average Precipitation by Month')\n",
    "axes[0, 0].set_xlabel('Month')\n",
    "axes[0, 0].set_ylabel('Precipitation (mm)')\n",
    "\n",
    "# Monsoon vs non-monsoon\n",
    "monsoon_data = df_engineered.groupby('is_monsoon')['Precipitation_mm'].mean()\n",
    "axes[0, 1].bar(['Non-Monsoon', 'Monsoon'], monsoon_data.values)\n",
    "axes[0, 1].set_title('Average Precipitation: Monsoon vs Non-Monsoon')\n",
    "axes[0, 1].set_ylabel('Precipitation (mm)')\n",
    "\n",
    "# Temperature-Humidity relationship\n",
    "axes[1, 0].scatter(df_engineered['Temp_avg'], df_engineered['Relative_Humidity'], \n",
    "                   c=df_engineered['Precipitation_mm'], cmap='viridis', alpha=0.6)\n",
    "axes[1, 0].set_xlabel('Temperature (°C)')\n",
    "axes[1, 0].set_ylabel('Relative Humidity (%)')\n",
    "axes[1, 0].set_title('Temperature vs Humidity (colored by Precipitation)')\n",
    "\n",
    "# Lag feature effectiveness\n",
    "lag_corr = correlations[correlations.index.str.contains('lag')].head(5)\n",
    "axes[1, 1].barh(range(len(lag_corr)), lag_corr.values)\n",
    "axes[1, 1].set_yticks(range(len(lag_corr)))\n",
    "axes[1, 1].set_yticklabels(lag_corr.index)\n",
    "axes[1, 1].set_xlabel('Correlation with Precipitation')\n",
    "axes[1, 1].set_title('Top Lag Features')\n",
    "\n",
    "plt.tight_layout()\n",
    "plt.show()"
   ]
  },
  {
   "cell_type": "markdown",
   "metadata": {},
   "source": [
    "## 7. Feature Selection and Final Dataset"
   ]
  },
  {
   "cell_type": "code",
   "execution_count": null,
   "metadata": {},
   "outputs": [],
   "source": [
    "# Select top features for modeling\n",
    "def select_features(df, target_col='Precipitation_mm', top_n=20):\n",
    "    \"\"\"\n",
    "    Select top features based on correlation with target.\n",
    "    \"\"\"\n",
    "    # Calculate correlations\n",
    "    numeric_cols = df.select_dtypes(include=[np.number]).columns\n",
    "    correlations = df[numeric_cols].corr()[target_col].abs().sort_values(ascending=False)\n",
    "    \n",
    "    # Select top features (excluding target itself)\n",
    "    selected_features = correlations.head(top_n + 1).index[1:].tolist()\n",
    "    \n",
    "    # Always include basic weather variables\n",
    "    essential_features = ['Temp_avg', 'Relative_Humidity', 'Wind_kmh']\n",
    "    for feature in essential_features:\n",
    "        if feature not in selected_features:\n",
    "            selected_features.append(feature)\n",
    "    \n",
    "    return selected_features\n",
    "\n",
    "# Select features\n",
    "selected_features = select_features(df_engineered, top_n=15)\n",
    "print(f\"Selected {len(selected_features)} features:\")\n",
    "for i, feature in enumerate(selected_features, 1):\n",
    "    print(f\"{i:2d}. {feature}\")"
   ]
  },
  {
   "cell_type": "code",
   "execution_count": null,
   "metadata": {},
   "outputs": [],
   "source": [
    "# Create final dataset\n",
    "final_features = ['Date', 'Year', 'Week_Number'] + selected_features + ['Precipitation_mm']\n",
    "df_final = df_engineered[final_features].copy()\n",
    "\n",
    "# Remove rows with NaN values (due to lag features)\n",
    "df_final_clean = df_final.dropna()\n",
    "\n",
    "print(f\"Original dataset: {len(df_engineered)} rows\")\n",
    "print(f\"After removing NaN: {len(df_final_clean)} rows\")\n",
    "print(f\"Final feature count: {len(selected_features)}\")\n",
    "\n",
    "# Save the engineered dataset\n",
    "df_final_clean.to_csv('../data/processed/engineered_features.csv', index=False)\n",
    "print(\"\\nEngineered dataset saved to data/processed/engineered_features.csv\")"
   ]
  },
  {
   "cell_type": "markdown",
   "metadata": {},
   "source": [
    "## 8. Summary and Next Steps\n",
    "\n",
    "### Features Created:\n",
    "1. **Lag Features**: Previous week's weather conditions\n",
    "2. **Moving Averages**: Smoothed trends over 3-4 week periods\n",
    "3. **Seasonal Indicators**: Monsoon and dry season flags\n",
    "4. **Cyclical Encoding**: Month and week cyclical features\n",
    "5. **Interaction Features**: Temperature-humidity interactions\n",
    "\n",
    "### Key Insights:\n",
    "- Lag features show strong correlation with current precipitation\n",
    "- Seasonal patterns are clearly visible in the data\n",
    "- Temperature-humidity interactions provide additional predictive power\n",
    "\n",
    "### Next Steps:\n",
    "1. Proceed to model training with engineered features\n",
    "2. Compare performance with and without feature engineering\n",
    "3. Fine-tune feature selection based on model performance"
   ]
  },
  {
   "cell_type": "code",
   "execution_count": null,
   "metadata": {},
   "outputs": [],
   "source": [
    "# Final dataset summary\n",
    "print(\"=== FEATURE ENGINEERING SUMMARY ===\")\n",
    "print(f\"Total features created: {len(df_engineered.columns)}\")\n",
    "print(f\"Selected features: {len(selected_features)}\")\n",
    "print(f\"Final dataset shape: {df_final_clean.shape}\")\n",
    "print(f\"Date range: {df_final_clean['Date'].min()} to {df_final_clean['Date'].max()}\")\n",
    "print(\"\\nFeature engineering completed successfully!\")"
   ]
  }
 ],
 "metadata": {
  "kernelspec": {
   "display_name": "Python 3",
   "language": "python",
   "name": "python3"
  },
  "language_info": {
   "codemirror_mode": {
    "name": "ipython",
    "version": 3
   },
   "file_extension": ".py",
   "mimetype": "text/x-python",
   "name": "python",
   "nbconvert_exporter": "python",
   "pygments_lexer": "ipython3",
   "version": "3.8.0"
  }
 },
 "nbformat": 4,
 "nbformat_minor": 4
}
